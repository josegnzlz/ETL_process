{
 "cells": [
  {
   "cell_type": "markdown",
   "id": "ca96a79d",
   "metadata": {},
   "source": [
    "# Data Engineer Project - ETL"
   ]
  },
  {
   "cell_type": "markdown",
   "id": "5a8e243a",
   "metadata": {},
   "source": [
    "## Part 1 - Web Scraping to get bank information"
   ]
  },
  {
   "cell_type": "code",
   "execution_count": 1,
   "id": "5301afcc",
   "metadata": {},
   "outputs": [],
   "source": [
    "from bs4 import BeautifulSoup\n",
    "import html5lib\n",
    "import requests\n",
    "import pandas as pd"
   ]
  },
  {
   "cell_type": "code",
   "execution_count": 3,
   "id": "ece44a80",
   "metadata": {},
   "outputs": [
    {
     "name": "stdout",
     "output_type": "stream",
     "text": [
      "<!DOCTYPE html>\n",
      "<html class=\"client-nojs\" lang=\"en\" dir=\"ltr\">\n",
      "<head>\n",
      "<meta charset=\"UTF-8\"/>\n",
      "<title\n"
     ]
    }
   ],
   "source": [
    "# Gathering the information\n",
    "url = \"https://en.wikipedia.org/wiki/List_of_largest_banks\"\n",
    "response = requests.get(url)\n",
    "if response.status_code == 200:\n",
    "    html_data = response.text\n",
    "    print(html_data[0:100])\n",
    "else:\n",
    "    print(\"Error: \", response.status_code)"
   ]
  },
  {
   "cell_type": "markdown",
   "id": "5de4c88d",
   "metadata": {},
   "source": [
    "### Scraping the data with BeautifulSoup"
   ]
  },
  {
   "cell_type": "code",
   "execution_count": 4,
   "id": "1ff34bea",
   "metadata": {},
   "outputs": [],
   "source": [
    "soup = BeautifulSoup(html_data, \"html5lib\")"
   ]
  },
  {
   "cell_type": "code",
   "execution_count": 5,
   "id": "b215921b",
   "metadata": {},
   "outputs": [
    {
     "name": "stdout",
     "output_type": "stream",
     "text": [
      "[[' Industrial and Commercial Bank of China Limited', '5,536.53'], [' China Construction Bank', '4,762.46'], [' Agricultural Bank of China', '4,575.95'], [' Bank of China', '4,206.53'], [' JPMorgan Chase', '3,743.57'], ['  Mitsubishi UFJ Financial Group', '3,176.84'], [' Bank of America', '3,169.50'], [' HSBC', '2,953.64'], [' BNP Paribas', '2,905.83'], [' Crédit Agricole', '2,674.35'], [' Citigroup Inc.', '2,291.41'], [' SMBC Group', '2,176.94'], [' Japan Post Bank', '1,998.98'], [' Postal Savings Bank of China', '1,981.53'], [' Mizuho Financial Group', '1,957.87'], [' Wells Fargo', '1,948.07'], [' Barclays', '1,874.40'], [' Bank of Communications', '1,836.38'], [' Banco Santander', '1,814.90'], [' Groupe BPCE', '1,724.12'], [' Société Générale', '1,665.47'], [' Deutsche Bank', '1,505.74'], [' Toronto-Dominion Bank', '1,486.40'], [' Goldman Sachs', '1,463.99'], [' China Merchants Bank', '1,455.94'], [' Royal Bank of Canada', '1,376.79'], [' Industrial Bank (China)', '1,354.25'], [' China CITIC Bank', '1,266.08'], [' Shanghai Pudong Development Bank', '1,251.38'], [' Crédit Mutuel', '1,249.36'], [' Intesa Sanpaolo', '1,215.74'], [' Lloyds Banking Group', '1,200.41'], [' Morgan Stanley', '1,188.14'], [' UBS', '1,117.18'], [' China Minsheng Bank', '1,094.48'], [' ING Group', '1,081.87'], [' NatWest Group', '1,058.86'], [' UniCredit', '1,042.50'], [' Scotiabank', '978.48'], [' China Everbright Bank', '929.08'], [' Norinchukin Bank', '927.77'], [' Bank of Montreal', '908.62'], [' La Banque postale', '878.32'], [' Commonwealth Bank', '836.05'], [' Credit Suisse', '829.12'], [' Standard Chartered', '827.82'], [' Banco Bilbao Vizcaya Argentaria', '818.21'], [' Ping An Bank', '774.70'], [' CaixaBank', '773.38'], [' Rabobank', '727.37'], [' DZ Bank', '713.38'], [' Australia and New Zealand Banking Group', '709.01'], [' State Bank of India', '694.90'], [' Westpac', '677.88'], [' Canadian Imperial Bank of Commerce', '676.95'], [' National Australia Bank', '670.70'], [' Resona Holdings', '662.32'], [' Nordea', '648.64'], [' Danske Bank', '602.01'], [' U.S. Bancorp', '573.28'], [' KB Financial Group Inc', '557.35'], [' PNC Financial Services', '557.19'], [' Sumitomo Mitsui Trust Holdings', '553.87'], [' Huaxia Bank', '550.75'], [' Sberbank of Russia', '548.58'], [' Shinhan Bank', '544.14'], [' Truist Financial Corp', '541.24'], [' Commerzbank', '536.65'], [' DBS Bank', '508.89'], [' China Guangfa Bank', '493.36'], [' Bank of Beijing', '474.36'], [' ABN AMRO', '453.90'], [' The Bank of New York Mellon', '444.44'], [' Capital One', '432.38'], [' Nonghyup Bank', '425.58'], [' Hana Financial Group', '421.81'], [' Bank of Shanghai', '411.53'], [' OCBC Bank', '402.16'], [' Bank of Jiangsu', '400.75'], [' KBC Bank', '393.17'], [' Nomura Holdings', '392.71'], [' Nationwide Building Society', '385.40'], [' Woori Bank', '375.42'], [' Itaú Unibanco', '371.38'], [' Handelsbanken', '370.13'], [' SEB Group', '365.43'], [' China Zheshang Bank', '359.97'], [' Erste Group', '350.96'], [' DNB ASA', '342.97'], [' Banco do Brasil', '340.89'], [' United Overseas Bank', '340.70'], [' Industrial Bank of Korea', '334.19'], [' Landesbank Baden-Württemberg', '321.05'], [' State Street Corporation', '314.62'], [' Desjardins Group', '313.78'], [' Raiffeisen Gruppe', '312.07'], [' Swedbank', '304.20'], [' Bayerische Landesbank', '303.14'], [' Banco Bradesco', '300.73'], [' Qatar National Bank', '300.24']]\n"
     ]
    }
   ],
   "source": [
    "rows = []\n",
    "for row in soup.find_all(\"tbody\")[0].find_all(\"tr\"):\n",
    "    r = []\n",
    "    i= 0\n",
    "    for td in row.find_all(\"td\"):\n",
    "        if i == 0:\n",
    "            i += 1\n",
    "            continue\n",
    "        r.append(td.text[0:-1])\n",
    "        i+=1\n",
    "    rows.append(r)\n",
    "rows.pop(0)\n",
    "print(rows)"
   ]
  },
  {
   "cell_type": "code",
   "execution_count": 6,
   "id": "7ba2bdfc",
   "metadata": {},
   "outputs": [
    {
     "data": {
      "text/html": [
       "<div>\n",
       "<style scoped>\n",
       "    .dataframe tbody tr th:only-of-type {\n",
       "        vertical-align: middle;\n",
       "    }\n",
       "\n",
       "    .dataframe tbody tr th {\n",
       "        vertical-align: top;\n",
       "    }\n",
       "\n",
       "    .dataframe thead th {\n",
       "        text-align: right;\n",
       "    }\n",
       "</style>\n",
       "<table border=\"1\" class=\"dataframe\">\n",
       "  <thead>\n",
       "    <tr style=\"text-align: right;\">\n",
       "      <th></th>\n",
       "      <th>Name</th>\n",
       "      <th>Market Cap (US$ Billion)</th>\n",
       "    </tr>\n",
       "  </thead>\n",
       "  <tbody>\n",
       "    <tr>\n",
       "      <th>0</th>\n",
       "      <td>Industrial and Commercial Bank of China Limited</td>\n",
       "      <td>5,536.53</td>\n",
       "    </tr>\n",
       "    <tr>\n",
       "      <th>1</th>\n",
       "      <td>China Construction Bank</td>\n",
       "      <td>4,762.46</td>\n",
       "    </tr>\n",
       "    <tr>\n",
       "      <th>2</th>\n",
       "      <td>Agricultural Bank of China</td>\n",
       "      <td>4,575.95</td>\n",
       "    </tr>\n",
       "    <tr>\n",
       "      <th>3</th>\n",
       "      <td>Bank of China</td>\n",
       "      <td>4,206.53</td>\n",
       "    </tr>\n",
       "    <tr>\n",
       "      <th>4</th>\n",
       "      <td>JPMorgan Chase</td>\n",
       "      <td>3,743.57</td>\n",
       "    </tr>\n",
       "  </tbody>\n",
       "</table>\n",
       "</div>"
      ],
      "text/plain": [
       "                                               Name Market Cap (US$ Billion)\n",
       "0   Industrial and Commercial Bank of China Limited                 5,536.53\n",
       "1                           China Construction Bank                 4,762.46\n",
       "2                        Agricultural Bank of China                 4,575.95\n",
       "3                                     Bank of China                 4,206.53\n",
       "4                                    JPMorgan Chase                 3,743.57"
      ]
     },
     "execution_count": 6,
     "metadata": {},
     "output_type": "execute_result"
    }
   ],
   "source": [
    "data = pd.DataFrame(rows, columns=[\"Name\", \"Market Cap (US$ Billion)\"])\n",
    "data.head()"
   ]
  },
  {
   "cell_type": "markdown",
   "id": "b1b316f4",
   "metadata": {},
   "source": [
    "### Load the data"
   ]
  },
  {
   "cell_type": "code",
   "execution_count": 7,
   "id": "d5c717b4",
   "metadata": {},
   "outputs": [],
   "source": [
    "data.to_json(\"Data/bank_market_cap.json\")"
   ]
  },
  {
   "cell_type": "markdown",
   "id": "cc0b912e",
   "metadata": {},
   "source": [
    "# Part 2. Rate data using an API"
   ]
  },
  {
   "cell_type": "code",
   "execution_count": 8,
   "id": "a7cc15bc",
   "metadata": {},
   "outputs": [],
   "source": [
    "url = \"https://api.apilayer.com/exchangerates_data/latest?base=EUR&apikey=qqJdu3oiaJle02zMPD8CXjvxtfqst25W\"\n",
    "response = requests.get(url)\n",
    "data = response.json()[\"rates\"]"
   ]
  },
  {
   "cell_type": "code",
   "execution_count": 9,
   "id": "88879230",
   "metadata": {},
   "outputs": [
    {
     "data": {
      "text/html": [
       "<div>\n",
       "<style scoped>\n",
       "    .dataframe tbody tr th:only-of-type {\n",
       "        vertical-align: middle;\n",
       "    }\n",
       "\n",
       "    .dataframe tbody tr th {\n",
       "        vertical-align: top;\n",
       "    }\n",
       "\n",
       "    .dataframe thead th {\n",
       "        text-align: right;\n",
       "    }\n",
       "</style>\n",
       "<table border=\"1\" class=\"dataframe\">\n",
       "  <thead>\n",
       "    <tr style=\"text-align: right;\">\n",
       "      <th></th>\n",
       "      <th>Rate</th>\n",
       "    </tr>\n",
       "  </thead>\n",
       "  <tbody>\n",
       "    <tr>\n",
       "      <th>AED</th>\n",
       "      <td>3.995134</td>\n",
       "    </tr>\n",
       "    <tr>\n",
       "      <th>AFN</th>\n",
       "      <td>96.928176</td>\n",
       "    </tr>\n",
       "    <tr>\n",
       "      <th>ALL</th>\n",
       "      <td>116.739848</td>\n",
       "    </tr>\n",
       "    <tr>\n",
       "      <th>AMD</th>\n",
       "      <td>430.751967</td>\n",
       "    </tr>\n",
       "    <tr>\n",
       "      <th>ANG</th>\n",
       "      <td>1.960765</td>\n",
       "    </tr>\n",
       "  </tbody>\n",
       "</table>\n",
       "</div>"
      ],
      "text/plain": [
       "           Rate\n",
       "AED    3.995134\n",
       "AFN   96.928176\n",
       "ALL  116.739848\n",
       "AMD  430.751967\n",
       "ANG    1.960765"
      ]
     },
     "execution_count": 9,
     "metadata": {},
     "output_type": "execute_result"
    }
   ],
   "source": [
    "df = pd.DataFrame.from_dict(data, orient=\"index\", columns=[\"Rate\"])\n",
    "df.head()"
   ]
  },
  {
   "cell_type": "markdown",
   "id": "ad545a76",
   "metadata": {},
   "source": [
    "### Load the data"
   ]
  },
  {
   "cell_type": "code",
   "execution_count": 10,
   "id": "4de01d7b",
   "metadata": {},
   "outputs": [],
   "source": [
    "df.to_csv(\"Data/exchange_rates.csv\")"
   ]
  },
  {
   "cell_type": "markdown",
   "id": "25835ae3",
   "metadata": {},
   "source": [
    "# Part 3. ETL Process"
   ]
  },
  {
   "cell_type": "markdown",
   "id": "5992f3d6",
   "metadata": {},
   "source": [
    "### Objectives\n",
    "- ETL process\n",
    "- Extract bank and market data (bank_market_cap.json)\n",
    "- Transform the market cap currency\n",
    "- Load the transformed data into a separate CSV file"
   ]
  },
  {
   "cell_type": "code",
   "execution_count": 70,
   "id": "67bb87c0",
   "metadata": {},
   "outputs": [],
   "source": [
    "from datetime import datetime"
   ]
  },
  {
   "cell_type": "code",
   "execution_count": 71,
   "id": "6a6ac28c",
   "metadata": {},
   "outputs": [],
   "source": [
    "# Extract JSON files\n",
    "def extract_from_json(json_file):\n",
    "    df = pd.read_json(json_file)\n",
    "    return df"
   ]
  },
  {
   "cell_type": "markdown",
   "id": "daf8f1d0",
   "metadata": {},
   "source": [
    "## Extract Function"
   ]
  },
  {
   "cell_type": "markdown",
   "id": "2390e955",
   "metadata": {},
   "source": [
    "Extract from a JSON file and define columns"
   ]
  },
  {
   "cell_type": "code",
   "execution_count": 72,
   "id": "ef34b94c",
   "metadata": {},
   "outputs": [],
   "source": [
    "columns = [\"Name\", \"Market Cap (US$ Billion)\"]"
   ]
  },
  {
   "cell_type": "code",
   "execution_count": 73,
   "id": "532659c1",
   "metadata": {},
   "outputs": [],
   "source": [
    "def extract(file, columns):\n",
    "    df = extract_from_json(file)\n",
    "    df.columns = columns\n",
    "    df[columns[1]] = df[columns[1]].str.replace(\",\",\"\").astype(float)\n",
    "    return df"
   ]
  },
  {
   "cell_type": "code",
   "execution_count": 74,
   "id": "be0ab8d5",
   "metadata": {},
   "outputs": [
    {
     "data": {
      "text/html": [
       "<div>\n",
       "<style scoped>\n",
       "    .dataframe tbody tr th:only-of-type {\n",
       "        vertical-align: middle;\n",
       "    }\n",
       "\n",
       "    .dataframe tbody tr th {\n",
       "        vertical-align: top;\n",
       "    }\n",
       "\n",
       "    .dataframe thead th {\n",
       "        text-align: right;\n",
       "    }\n",
       "</style>\n",
       "<table border=\"1\" class=\"dataframe\">\n",
       "  <thead>\n",
       "    <tr style=\"text-align: right;\">\n",
       "      <th></th>\n",
       "      <th>Rate</th>\n",
       "    </tr>\n",
       "    <tr>\n",
       "      <th></th>\n",
       "      <th></th>\n",
       "    </tr>\n",
       "  </thead>\n",
       "  <tbody>\n",
       "    <tr>\n",
       "      <th>AED</th>\n",
       "      <td>3.995134</td>\n",
       "    </tr>\n",
       "    <tr>\n",
       "      <th>AFN</th>\n",
       "      <td>96.928176</td>\n",
       "    </tr>\n",
       "    <tr>\n",
       "      <th>ALL</th>\n",
       "      <td>116.739848</td>\n",
       "    </tr>\n",
       "    <tr>\n",
       "      <th>AMD</th>\n",
       "      <td>430.751967</td>\n",
       "    </tr>\n",
       "    <tr>\n",
       "      <th>ANG</th>\n",
       "      <td>1.960765</td>\n",
       "    </tr>\n",
       "  </tbody>\n",
       "</table>\n",
       "</div>"
      ],
      "text/plain": [
       "           Rate\n",
       "               \n",
       "AED    3.995134\n",
       "AFN   96.928176\n",
       "ALL  116.739848\n",
       "AMD  430.751967\n",
       "ANG    1.960765"
      ]
     },
     "execution_count": 74,
     "metadata": {},
     "output_type": "execute_result"
    }
   ],
   "source": [
    "# Load of file \"exchange_rates.csv\", taking of the exchange rate of GDP\n",
    "df = pd.read_csv(\"Data/exchange_rates.csv\")\n",
    "df = df.set_index(\"Unnamed: 0\")\n",
    "df.index = df.index.rename(\"\")\n",
    "df.head()"
   ]
  },
  {
   "cell_type": "code",
   "execution_count": 75,
   "id": "f39333e5",
   "metadata": {},
   "outputs": [],
   "source": [
    "GBP_rate = df.loc[\"GBP\", \"Rate\"]"
   ]
  },
  {
   "cell_type": "code",
   "execution_count": 76,
   "id": "9285a2bc",
   "metadata": {},
   "outputs": [],
   "source": [
    "# Transform Market Cap from US$ to GBP$\n",
    "def transform(exchange_rate, dataframe):\n",
    "    dataframe[\"Market Cap (US$ Billion)\"] = dataframe[\"Market Cap (US$ Billion)\"] * exchange_rate\n",
    "    dataframe = dataframe.rename(columns={\"Market Cap (US$ Billion)\": \"Market Cap (GBP$ Billion)\"})\n",
    "    return dataframe"
   ]
  },
  {
   "cell_type": "code",
   "execution_count": 77,
   "id": "3c6ca5dd",
   "metadata": {},
   "outputs": [],
   "source": [
    "# Load the data\n",
    "def load(dataframe):\n",
    "    dataframe.to_csv(\"bank_market_cap_gbp.csv\", index = False)"
   ]
  },
  {
   "cell_type": "code",
   "execution_count": 78,
   "id": "00f2e30e",
   "metadata": {},
   "outputs": [],
   "source": [
    "# Logging function\n",
    "def log(message):\n",
    "    # Get the current timestamp\n",
    "    timestamp = datetime.now().strftime(\"%Y-%m-%d %H:%M:%S\")\n",
    "    with open(\"log.txt\", \"a\") as file:\n",
    "        file.write(f\"{timestamp} - {message}\\n\")"
   ]
  },
  {
   "cell_type": "markdown",
   "id": "f5ddddef",
   "metadata": {},
   "source": [
    "### Running the ETL Process"
   ]
  },
  {
   "cell_type": "code",
   "execution_count": 79,
   "id": "43ef666f",
   "metadata": {},
   "outputs": [],
   "source": [
    "log(\"ETL Job Started\")\n",
    "log(\"Extract phase Started\")"
   ]
  },
  {
   "cell_type": "markdown",
   "id": "52f401ec",
   "metadata": {},
   "source": [
    "#### Extract"
   ]
  },
  {
   "cell_type": "code",
   "execution_count": 80,
   "id": "fd25dd00",
   "metadata": {},
   "outputs": [
    {
     "data": {
      "text/html": [
       "<div>\n",
       "<style scoped>\n",
       "    .dataframe tbody tr th:only-of-type {\n",
       "        vertical-align: middle;\n",
       "    }\n",
       "\n",
       "    .dataframe tbody tr th {\n",
       "        vertical-align: top;\n",
       "    }\n",
       "\n",
       "    .dataframe thead th {\n",
       "        text-align: right;\n",
       "    }\n",
       "</style>\n",
       "<table border=\"1\" class=\"dataframe\">\n",
       "  <thead>\n",
       "    <tr style=\"text-align: right;\">\n",
       "      <th></th>\n",
       "      <th>Name</th>\n",
       "      <th>Market Cap (US$ Billion)</th>\n",
       "    </tr>\n",
       "  </thead>\n",
       "  <tbody>\n",
       "    <tr>\n",
       "      <th>0</th>\n",
       "      <td>Industrial and Commercial Bank of China Limited</td>\n",
       "      <td>5536.53</td>\n",
       "    </tr>\n",
       "    <tr>\n",
       "      <th>1</th>\n",
       "      <td>China Construction Bank</td>\n",
       "      <td>4762.46</td>\n",
       "    </tr>\n",
       "    <tr>\n",
       "      <th>2</th>\n",
       "      <td>Agricultural Bank of China</td>\n",
       "      <td>4575.95</td>\n",
       "    </tr>\n",
       "    <tr>\n",
       "      <th>3</th>\n",
       "      <td>Bank of China</td>\n",
       "      <td>4206.53</td>\n",
       "    </tr>\n",
       "    <tr>\n",
       "      <th>4</th>\n",
       "      <td>JPMorgan Chase</td>\n",
       "      <td>3743.57</td>\n",
       "    </tr>\n",
       "  </tbody>\n",
       "</table>\n",
       "</div>"
      ],
      "text/plain": [
       "                                               Name  Market Cap (US$ Billion)\n",
       "0   Industrial and Commercial Bank of China Limited                   5536.53\n",
       "1                           China Construction Bank                   4762.46\n",
       "2                        Agricultural Bank of China                   4575.95\n",
       "3                                     Bank of China                   4206.53\n",
       "4                                    JPMorgan Chase                   3743.57"
      ]
     },
     "execution_count": 80,
     "metadata": {},
     "output_type": "execute_result"
    }
   ],
   "source": [
    "dataframe = extract(\"Data/bank_market_cap.json\", columns)\n",
    "dataframe.head()"
   ]
  },
  {
   "cell_type": "code",
   "execution_count": 81,
   "id": "6a7f793a",
   "metadata": {},
   "outputs": [],
   "source": [
    "log(\"Extract phase Ended\")"
   ]
  },
  {
   "cell_type": "markdown",
   "id": "c2a6c9d4",
   "metadata": {},
   "source": [
    "#### Transform"
   ]
  },
  {
   "cell_type": "code",
   "execution_count": 82,
   "id": "9327ed0b",
   "metadata": {},
   "outputs": [],
   "source": [
    "log(\"Transform phase Started\")"
   ]
  },
  {
   "cell_type": "code",
   "execution_count": 83,
   "id": "f46779ef",
   "metadata": {},
   "outputs": [
    {
     "data": {
      "text/html": [
       "<div>\n",
       "<style scoped>\n",
       "    .dataframe tbody tr th:only-of-type {\n",
       "        vertical-align: middle;\n",
       "    }\n",
       "\n",
       "    .dataframe tbody tr th {\n",
       "        vertical-align: top;\n",
       "    }\n",
       "\n",
       "    .dataframe thead th {\n",
       "        text-align: right;\n",
       "    }\n",
       "</style>\n",
       "<table border=\"1\" class=\"dataframe\">\n",
       "  <thead>\n",
       "    <tr style=\"text-align: right;\">\n",
       "      <th></th>\n",
       "      <th>Name</th>\n",
       "      <th>Market Cap (GBP$ Billion)</th>\n",
       "    </tr>\n",
       "  </thead>\n",
       "  <tbody>\n",
       "    <tr>\n",
       "      <th>0</th>\n",
       "      <td>Industrial and Commercial Bank of China Limited</td>\n",
       "      <td>4867.988466</td>\n",
       "    </tr>\n",
       "    <tr>\n",
       "      <th>1</th>\n",
       "      <td>China Construction Bank</td>\n",
       "      <td>4187.388193</td>\n",
       "    </tr>\n",
       "    <tr>\n",
       "      <th>2</th>\n",
       "      <td>Agricultural Bank of China</td>\n",
       "      <td>4023.399462</td>\n",
       "    </tr>\n",
       "    <tr>\n",
       "      <th>3</th>\n",
       "      <td>Bank of China</td>\n",
       "      <td>3698.587296</td>\n",
       "    </tr>\n",
       "    <tr>\n",
       "      <th>4</th>\n",
       "      <td>JPMorgan Chase</td>\n",
       "      <td>3291.530179</td>\n",
       "    </tr>\n",
       "  </tbody>\n",
       "</table>\n",
       "</div>"
      ],
      "text/plain": [
       "                                               Name  Market Cap (GBP$ Billion)\n",
       "0   Industrial and Commercial Bank of China Limited                4867.988466\n",
       "1                           China Construction Bank                4187.388193\n",
       "2                        Agricultural Bank of China                4023.399462\n",
       "3                                     Bank of China                3698.587296\n",
       "4                                    JPMorgan Chase                3291.530179"
      ]
     },
     "execution_count": 83,
     "metadata": {},
     "output_type": "execute_result"
    }
   ],
   "source": [
    "dataframe = transform(GBP_rate, dataframe)\n",
    "dataframe.head()"
   ]
  },
  {
   "cell_type": "markdown",
   "id": "cd6a9dca",
   "metadata": {},
   "source": [
    "#### Load"
   ]
  },
  {
   "cell_type": "code",
   "execution_count": 84,
   "id": "e525e29a",
   "metadata": {},
   "outputs": [],
   "source": [
    "log(\"Load phase Started\")"
   ]
  },
  {
   "cell_type": "code",
   "execution_count": 85,
   "id": "e1800dae",
   "metadata": {},
   "outputs": [],
   "source": [
    "load(dataframe)"
   ]
  },
  {
   "cell_type": "code",
   "execution_count": 86,
   "id": "4832c96e",
   "metadata": {},
   "outputs": [],
   "source": [
    "log(\"Load phase Ended\")"
   ]
  }
 ],
 "metadata": {
  "kernelspec": {
   "display_name": "machineLearning",
   "language": "python",
   "name": "machinelearning"
  },
  "language_info": {
   "codemirror_mode": {
    "name": "ipython",
    "version": 3
   },
   "file_extension": ".py",
   "mimetype": "text/x-python",
   "name": "python",
   "nbconvert_exporter": "python",
   "pygments_lexer": "ipython3",
   "version": "3.8.8"
  }
 },
 "nbformat": 4,
 "nbformat_minor": 5
}
